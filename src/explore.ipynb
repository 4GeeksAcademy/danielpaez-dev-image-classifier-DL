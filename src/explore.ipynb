{
    "cells": [
        {
            "cell_type": "markdown",
            "metadata": {},
            "source": [
                "# Image Classifier - Deep Learning"
            ]
        },
        {
            "cell_type": "markdown",
            "metadata": {},
            "source": [
                "## Table of Contents"
            ]
        },
        {
            "cell_type": "markdown",
            "metadata": {},
            "source": [
                "## 0. Problem Statement <a id='c0'></a>\n",
                "\n",
                "The objective of this exercise is to successfully classify an animal into dog or cat with neural network model."
            ]
        },
        {
            "cell_type": "markdown",
            "metadata": {},
            "source": [
                "## 1. Importing libraries <a id='c1'></a>"
            ]
        },
        {
            "cell_type": "code",
            "execution_count": 3,
            "metadata": {},
            "outputs": [],
            "source": [
                "import requests\n",
                "import zipfile\n",
                "import io\n",
                "import os\n",
                "import pandas as pd\n",
                "import numpy as np\n",
                "import tensorflow as tf\n",
                "from tensorflow.keras.preprocessing.image import ImageDataGenerator, load_img, img_to_array\n",
                "import matplotlib.pyplot as plt\n",
                "import shutil"
            ]
        },
        {
            "cell_type": "markdown",
            "metadata": {},
            "source": [
                "## 2. Data Collection <a id='c2'></a>"
            ]
        },
        {
            "cell_type": "code",
            "execution_count": null,
            "metadata": {},
            "outputs": [],
            "source": [
                "URL = \"https://storage.googleapis.com/datascience-materials/dogs-vs-cats.zip\"\n",
                "response = requests.get(URL)\n",
                "response.raise_for_status()\n",
                "output_dir = 'dogs-vs-cats'\n",
                "\n",
                "with zipfile.ZipFile(io.BytesIO(response.content)) as z:\n",
                "    z.extractall(output_dir)\n",
                "train_dir = os.path.join(output_dir, output_dir,'train')\n",
                "\n",
                "df = "
            ]
        },
        {
            "cell_type": "code",
            "execution_count": null,
            "metadata": {},
            "outputs": [],
            "source": []
        }
    ],
    "metadata": {
        "kernelspec": {
            "display_name": "Python 3",
            "language": "python",
            "name": "python3"
        },
        "language_info": {
            "codemirror_mode": {
                "name": "ipython",
                "version": 3
            },
            "file_extension": ".py",
            "mimetype": "text/x-python",
            "name": "python",
            "nbconvert_exporter": "python",
            "pygments_lexer": "ipython3",
            "version": "3.11.4"
        },
        "orig_nbformat": 4
    },
    "nbformat": 4,
    "nbformat_minor": 2
}
